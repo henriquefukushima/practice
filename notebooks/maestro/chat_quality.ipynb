{
 "cells": [
  {
   "cell_type": "code",
   "execution_count": 28,
   "metadata": {},
   "outputs": [
    {
     "name": "stdout",
     "output_type": "stream",
     "text": [
      "646\n"
     ]
    }
   ],
   "source": [
    "import pandas as pd\n",
    "import numpy as np\n",
    "import matplotlib.pyplot as plt\n",
    "import seaborn as sns\n",
    "\n",
    "# Load the data\n",
    "file = 'robertinho_messages.csv'\n",
    "df = pd.read_csv(f'../../data/{file}')\n",
    "df.head()\n",
    "print(len(df))"
   ]
  },
  {
   "cell_type": "code",
   "execution_count": 29,
   "metadata": {},
   "outputs": [
    {
     "data": {
      "text/html": [
       "<div>\n",
       "<style scoped>\n",
       "    .dataframe tbody tr th:only-of-type {\n",
       "        vertical-align: middle;\n",
       "    }\n",
       "\n",
       "    .dataframe tbody tr th {\n",
       "        vertical-align: top;\n",
       "    }\n",
       "\n",
       "    .dataframe thead th {\n",
       "        text-align: right;\n",
       "    }\n",
       "</style>\n",
       "<table border=\"1\" class=\"dataframe\">\n",
       "  <thead>\n",
       "    <tr style=\"text-align: right;\">\n",
       "      <th></th>\n",
       "      <th>id</th>\n",
       "      <th>timestamp</th>\n",
       "      <th>contact_number</th>\n",
       "      <th>contact_id</th>\n",
       "      <th>incoming</th>\n",
       "      <th>type</th>\n",
       "      <th>message_text</th>\n",
       "      <th>message_id</th>\n",
       "      <th>document_path</th>\n",
       "      <th>org_id</th>\n",
       "    </tr>\n",
       "  </thead>\n",
       "  <tbody>\n",
       "    <tr>\n",
       "      <th>0</th>\n",
       "      <td>2333</td>\n",
       "      <td>2024-10-30T15:06:35Z</td>\n",
       "      <td>5511944615390</td>\n",
       "      <td>zKiXbA0E2qEw0I61yG-_p</td>\n",
       "      <td>1</td>\n",
       "      <td>text</td>\n",
       "      <td>Olá, tudo bem?</td>\n",
       "      <td>wamid.HBgNNTUxMTk0NDYxNTM5MBUCABIYIENENkIwNzRC...</td>\n",
       "      <td>NaN</td>\n",
       "      <td>8wxn3N6Gc5cvzqDzzoR9A</td>\n",
       "    </tr>\n",
       "    <tr>\n",
       "      <th>1</th>\n",
       "      <td>2376</td>\n",
       "      <td>2024-10-30T19:04:37Z</td>\n",
       "      <td>5511944615390</td>\n",
       "      <td>zKiXbA0E2qEw0I61yG-_p</td>\n",
       "      <td>1</td>\n",
       "      <td>text</td>\n",
       "      <td>Olá, boa tarde!</td>\n",
       "      <td>wamid.HBgNNTUxMTk0NDYxNTM5MBUCABIYFjNFQjAyMDZG...</td>\n",
       "      <td>NaN</td>\n",
       "      <td>8wxn3N6Gc5cvzqDzzoR9A</td>\n",
       "    </tr>\n",
       "    <tr>\n",
       "      <th>2</th>\n",
       "      <td>2377</td>\n",
       "      <td>2024-10-30T19:04:40Z</td>\n",
       "      <td>5511944615390</td>\n",
       "      <td>zKiXbA0E2qEw0I61yG-_p</td>\n",
       "      <td>0</td>\n",
       "      <td>text</td>\n",
       "      <td>Boa tarde! Como posso ajudá-lo hoje?</td>\n",
       "      <td>wamid.HBgNNTUxMTk0NDYxNTM5MBUCABEYEjI4Qjc4NzZC...</td>\n",
       "      <td>NaN</td>\n",
       "      <td>8wxn3N6Gc5cvzqDzzoR9A</td>\n",
       "    </tr>\n",
       "    <tr>\n",
       "      <th>4</th>\n",
       "      <td>2379</td>\n",
       "      <td>2024-10-30T19:07:11Z</td>\n",
       "      <td>5511944615390</td>\n",
       "      <td>zKiXbA0E2qEw0I61yG-_p</td>\n",
       "      <td>1</td>\n",
       "      <td>text</td>\n",
       "      <td>teste</td>\n",
       "      <td>wamid.HBgNNTUxMTk0NDYxNTM5MBUCABIYFjNFQjBDMTBE...</td>\n",
       "      <td>NaN</td>\n",
       "      <td>8wxn3N6Gc5cvzqDzzoR9A</td>\n",
       "    </tr>\n",
       "    <tr>\n",
       "      <th>5</th>\n",
       "      <td>2380</td>\n",
       "      <td>2024-10-30T19:07:14Z</td>\n",
       "      <td>5511944615390</td>\n",
       "      <td>zKiXbA0E2qEw0I61yG-_p</td>\n",
       "      <td>0</td>\n",
       "      <td>text</td>\n",
       "      <td>Desculpe, mas não posso ajudar com testes. Pos...</td>\n",
       "      <td>wamid.HBgNNTUxMTk0NDYxNTM5MBUCABEYEkUyODczN0FF...</td>\n",
       "      <td>NaN</td>\n",
       "      <td>8wxn3N6Gc5cvzqDzzoR9A</td>\n",
       "    </tr>\n",
       "  </tbody>\n",
       "</table>\n",
       "</div>"
      ],
      "text/plain": [
       "     id             timestamp  contact_number             contact_id  \\\n",
       "0  2333  2024-10-30T15:06:35Z   5511944615390  zKiXbA0E2qEw0I61yG-_p   \n",
       "1  2376  2024-10-30T19:04:37Z   5511944615390  zKiXbA0E2qEw0I61yG-_p   \n",
       "2  2377  2024-10-30T19:04:40Z   5511944615390  zKiXbA0E2qEw0I61yG-_p   \n",
       "4  2379  2024-10-30T19:07:11Z   5511944615390  zKiXbA0E2qEw0I61yG-_p   \n",
       "5  2380  2024-10-30T19:07:14Z   5511944615390  zKiXbA0E2qEw0I61yG-_p   \n",
       "\n",
       "   incoming  type                                       message_text  \\\n",
       "0         1  text                                     Olá, tudo bem?   \n",
       "1         1  text                                    Olá, boa tarde!   \n",
       "2         0  text               Boa tarde! Como posso ajudá-lo hoje?   \n",
       "4         1  text                                              teste   \n",
       "5         0  text  Desculpe, mas não posso ajudar com testes. Pos...   \n",
       "\n",
       "                                          message_id document_path  \\\n",
       "0  wamid.HBgNNTUxMTk0NDYxNTM5MBUCABIYIENENkIwNzRC...           NaN   \n",
       "1  wamid.HBgNNTUxMTk0NDYxNTM5MBUCABIYFjNFQjAyMDZG...           NaN   \n",
       "2  wamid.HBgNNTUxMTk0NDYxNTM5MBUCABEYEjI4Qjc4NzZC...           NaN   \n",
       "4  wamid.HBgNNTUxMTk0NDYxNTM5MBUCABIYFjNFQjBDMTBE...           NaN   \n",
       "5  wamid.HBgNNTUxMTk0NDYxNTM5MBUCABEYEkUyODczN0FF...           NaN   \n",
       "\n",
       "                  org_id  \n",
       "0  8wxn3N6Gc5cvzqDzzoR9A  \n",
       "1  8wxn3N6Gc5cvzqDzzoR9A  \n",
       "2  8wxn3N6Gc5cvzqDzzoR9A  \n",
       "4  8wxn3N6Gc5cvzqDzzoR9A  \n",
       "5  8wxn3N6Gc5cvzqDzzoR9A  "
      ]
     },
     "execution_count": 29,
     "metadata": {},
     "output_type": "execute_result"
    }
   ],
   "source": [
    "# drop / messages\n",
    "filtered_df = df[~df['message_text'].str.contains(r'\\/(?!clear)', regex=True, na=False)]\n",
    "filtered_df.head()"
   ]
  },
  {
   "cell_type": "code",
   "execution_count": 30,
   "metadata": {},
   "outputs": [
    {
     "data": {
      "text/plain": [
       "id                96\n",
       "timestamp         96\n",
       "contact_number    96\n",
       "contact_id        96\n",
       "incoming          96\n",
       "type              96\n",
       "message_text      96\n",
       "message_id        96\n",
       "document_path      0\n",
       "org_id            96\n",
       "dtype: int64"
      ]
     },
     "execution_count": 30,
     "metadata": {},
     "output_type": "execute_result"
    }
   ],
   "source": [
    "(filtered_df[filtered_df['message_text'] == '/clear']).count()"
   ]
  },
  {
   "cell_type": "code",
   "execution_count": 31,
   "metadata": {},
   "outputs": [
    {
     "name": "stderr",
     "output_type": "stream",
     "text": [
      "/var/folders/9l/gkwpjt7n6llfmvr_0v6qztfr0000gn/T/ipykernel_13697/560775346.py:1: SettingWithCopyWarning: \n",
      "A value is trying to be set on a copy of a slice from a DataFrame\n",
      "\n",
      "See the caveats in the documentation: https://pandas.pydata.org/pandas-docs/stable/user_guide/indexing.html#returning-a-view-versus-a-copy\n",
      "  filtered_df.drop(['id', 'timestamp', 'contact_number', 'contact_id', 'message_id', 'document_path', 'org_id'], axis=1, inplace=True)\n"
     ]
    }
   ],
   "source": [
    "filtered_df.drop(['id', 'timestamp', 'contact_number', 'contact_id', 'message_id', 'document_path', 'org_id'], axis=1, inplace=True)"
   ]
  },
  {
   "cell_type": "code",
   "execution_count": 33,
   "metadata": {},
   "outputs": [
    {
     "data": {
      "text/html": [
       "<div>\n",
       "<style scoped>\n",
       "    .dataframe tbody tr th:only-of-type {\n",
       "        vertical-align: middle;\n",
       "    }\n",
       "\n",
       "    .dataframe tbody tr th {\n",
       "        vertical-align: top;\n",
       "    }\n",
       "\n",
       "    .dataframe thead th {\n",
       "        text-align: right;\n",
       "    }\n",
       "</style>\n",
       "<table border=\"1\" class=\"dataframe\">\n",
       "  <thead>\n",
       "    <tr style=\"text-align: right;\">\n",
       "      <th></th>\n",
       "      <th>incoming</th>\n",
       "      <th>type</th>\n",
       "      <th>message_text</th>\n",
       "    </tr>\n",
       "  </thead>\n",
       "  <tbody>\n",
       "    <tr>\n",
       "      <th>0</th>\n",
       "      <td>1</td>\n",
       "      <td>text</td>\n",
       "      <td>Olá, tudo bem?</td>\n",
       "    </tr>\n",
       "    <tr>\n",
       "      <th>1</th>\n",
       "      <td>1</td>\n",
       "      <td>text</td>\n",
       "      <td>Olá, boa tarde!</td>\n",
       "    </tr>\n",
       "    <tr>\n",
       "      <th>2</th>\n",
       "      <td>0</td>\n",
       "      <td>text</td>\n",
       "      <td>Boa tarde! Como posso ajudá-lo hoje?</td>\n",
       "    </tr>\n",
       "    <tr>\n",
       "      <th>4</th>\n",
       "      <td>1</td>\n",
       "      <td>text</td>\n",
       "      <td>teste</td>\n",
       "    </tr>\n",
       "    <tr>\n",
       "      <th>5</th>\n",
       "      <td>0</td>\n",
       "      <td>text</td>\n",
       "      <td>Desculpe, mas não posso ajudar com testes. Pos...</td>\n",
       "    </tr>\n",
       "    <tr>\n",
       "      <th>...</th>\n",
       "      <td>...</td>\n",
       "      <td>...</td>\n",
       "      <td>...</td>\n",
       "    </tr>\n",
       "    <tr>\n",
       "      <th>640</th>\n",
       "      <td>1</td>\n",
       "      <td>text</td>\n",
       "      <td>Qual é a diferença estimada entre os gastos pr...</td>\n",
       "    </tr>\n",
       "    <tr>\n",
       "      <th>641</th>\n",
       "      <td>0</td>\n",
       "      <td>text</td>\n",
       "      <td>O texto não fornece informações específicas so...</td>\n",
       "    </tr>\n",
       "    <tr>\n",
       "      <th>642</th>\n",
       "      <td>1</td>\n",
       "      <td>text</td>\n",
       "      <td>Qual a despesa minimizada do BPC?</td>\n",
       "    </tr>\n",
       "    <tr>\n",
       "      <th>643</th>\n",
       "      <td>0</td>\n",
       "      <td>text</td>\n",
       "      <td>O texto não fornece informações específicas so...</td>\n",
       "    </tr>\n",
       "    <tr>\n",
       "      <th>645</th>\n",
       "      <td>1</td>\n",
       "      <td>text</td>\n",
       "      <td>/clear</td>\n",
       "    </tr>\n",
       "  </tbody>\n",
       "</table>\n",
       "<p>521 rows × 3 columns</p>\n",
       "</div>"
      ],
      "text/plain": [
       "     incoming  type                                       message_text\n",
       "0           1  text                                     Olá, tudo bem?\n",
       "1           1  text                                    Olá, boa tarde!\n",
       "2           0  text               Boa tarde! Como posso ajudá-lo hoje?\n",
       "4           1  text                                              teste\n",
       "5           0  text  Desculpe, mas não posso ajudar com testes. Pos...\n",
       "..        ...   ...                                                ...\n",
       "640         1  text  Qual é a diferença estimada entre os gastos pr...\n",
       "641         0  text  O texto não fornece informações específicas so...\n",
       "642         1  text                  Qual a despesa minimizada do BPC?\n",
       "643         0  text  O texto não fornece informações específicas so...\n",
       "645         1  text                                             /clear\n",
       "\n",
       "[521 rows x 3 columns]"
      ]
     },
     "execution_count": 33,
     "metadata": {},
     "output_type": "execute_result"
    }
   ],
   "source": [
    "filtered_df"
   ]
  },
  {
   "cell_type": "code",
   "execution_count": 34,
   "metadata": {},
   "outputs": [],
   "source": [
    "filtered_df.to_csv(f'../../data/bertinho_messages.csv', index=False)"
   ]
  },
  {
   "cell_type": "code",
   "execution_count": null,
   "metadata": {},
   "outputs": [],
   "source": []
  }
 ],
 "metadata": {
  "kernelspec": {
   "display_name": "venv",
   "language": "python",
   "name": "python3"
  },
  "language_info": {
   "codemirror_mode": {
    "name": "ipython",
    "version": 3
   },
   "file_extension": ".py",
   "mimetype": "text/x-python",
   "name": "python",
   "nbconvert_exporter": "python",
   "pygments_lexer": "ipython3",
   "version": "3.13.0"
  }
 },
 "nbformat": 4,
 "nbformat_minor": 2
}
