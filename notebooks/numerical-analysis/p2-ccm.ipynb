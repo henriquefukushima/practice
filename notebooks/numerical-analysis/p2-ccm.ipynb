{
 "cells": [
  {
   "cell_type": "markdown",
   "metadata": {},
   "source": [
    "# P2 - CCM0218 "
   ]
  },
  {
   "cell_type": "code",
   "execution_count": 4,
   "metadata": {},
   "outputs": [],
   "source": [
    "import pandas as pd\n",
    "import numpy as np\n",
    "import matplotlib.pyplot as plt\n",
    "import statsmodels.api as sm"
   ]
  },
  {
   "cell_type": "markdown",
   "metadata": {},
   "source": [
    "## (Question 5)\n",
    "\n",
    "(A) Determine the least squares adjustement line, under the dot product:\n",
    "$$\\langle x,y \\rangle = \\sum_{i=1}^6 \\lambda_i x_i y_i$$"
   ]
  },
  {
   "cell_type": "code",
   "execution_count": 5,
   "metadata": {},
   "outputs": [],
   "source": [
    "# Data\n",
    "t = np.array([1, 2, 3, 4, 5, 6])  # Time points\n",
    "R = np.array([21.3, 21.8, 21.2, 21.3, 20.5, 21.0])  # Prices\n",
    "weights = np.array([0.5, 0.6, 0.7, 0.8, 0.9, 1.0])  # Weights"
   ]
  },
  {
   "cell_type": "code",
   "execution_count": 6,
   "metadata": {},
   "outputs": [
    {
     "name": "stdout",
     "output_type": "stream",
     "text": [
      "Intercept (alpha): 21.730000000000004\n",
      "Slope (beta): -0.15571428571428614\n",
      "                            WLS Regression Results                            \n",
      "==============================================================================\n",
      "Dep. Variable:                      y   R-squared:                       0.441\n",
      "Model:                            WLS   Adj. R-squared:                  0.301\n",
      "Method:                 Least Squares   F-statistic:                     3.155\n",
      "Date:                Sat, 14 Dec 2024   Prob (F-statistic):              0.150\n",
      "Time:                        11:37:14   Log-Likelihood:                -1.2004\n",
      "No. Observations:                   6   AIC:                             6.401\n",
      "Df Residuals:                       4   BIC:                             5.984\n",
      "Df Model:                           1                                         \n",
      "Covariance Type:            nonrobust                                         \n",
      "==============================================================================\n",
      "                 coef    std err          t      P>|t|      [0.025      0.975]\n",
      "------------------------------------------------------------------------------\n",
      "const         21.7300      0.371     58.604      0.000      20.701      22.759\n",
      "x1            -0.1557      0.088     -1.776      0.150      -0.399       0.088\n",
      "==============================================================================\n",
      "Omnibus:                          nan   Durbin-Watson:                   3.064\n",
      "Prob(Omnibus):                    nan   Jarque-Bera (JB):                0.555\n",
      "Skew:                          -0.477   Prob(JB):                        0.758\n",
      "Kurtosis:                       1.854   Cond. No.                         11.3\n",
      "==============================================================================\n",
      "\n",
      "Notes:\n",
      "[1] Standard Errors assume that the covariance matrix of the errors is correctly specified.\n"
     ]
    },
    {
     "name": "stderr",
     "output_type": "stream",
     "text": [
      "/Users/lcap/Documents/repositories/practice/venv/lib/python3.13/site-packages/statsmodels/stats/stattools.py:74: ValueWarning: omni_normtest is not valid with less than 8 observations; 6 samples were given.\n",
      "  warn(\"omni_normtest is not valid with less than 8 observations; %i \"\n"
     ]
    }
   ],
   "source": [
    "# Add a constant term for the intercept\n",
    "t_with_intercept = sm.add_constant(t)\n",
    "\n",
    "# Fit the weighted least squares model\n",
    "model = sm.WLS(R, t_with_intercept, weights=weights)\n",
    "results = model.fit()\n",
    "\n",
    "# Extract parameters\n",
    "alpha, beta = results.params\n",
    "print(\"Intercept (alpha):\", alpha)\n",
    "print(\"Slope (beta):\", beta)\n",
    "\n",
    "# Print summary\n",
    "print(results.summary())"
   ]
  },
  {
   "cell_type": "code",
   "execution_count": 7,
   "metadata": {},
   "outputs": [
    {
     "name": "stdout",
     "output_type": "stream",
     "text": [
      "Variance of residuals: 0.08456150793650774\n"
     ]
    }
   ],
   "source": [
    "# Calculate variance of residuals\n",
    "residuals = results.resid\n",
    "variance = np.var(residuals)\n",
    "print(\"Variance of residuals:\", variance)"
   ]
  },
  {
   "cell_type": "code",
   "execution_count": 9,
   "metadata": {},
   "outputs": [
    {
     "data": {
      "text/plain": [
       "np.float64(0.3825714285714275)"
      ]
     },
     "execution_count": 9,
     "metadata": {},
     "output_type": "execute_result"
    }
   ],
   "source": [
    "0.5 * residuals[0] ** 2 + 0.6 * residuals[1] ** 2 + 0.7 * residuals[2] ** 2 + 0.8 * residuals[3] ** 2 + 0.9 * residuals[4] ** 2 + 1.0 * residuals[5] ** 2"
   ]
  },
  {
   "cell_type": "code",
   "execution_count": 11,
   "metadata": {},
   "outputs": [
    {
     "data": {
      "text/plain": [
       "np.float64(0.29079461469653756)"
      ]
     },
     "execution_count": 11,
     "metadata": {},
     "output_type": "execute_result"
    }
   ],
   "source": [
    "np.std(residuals) "
   ]
  },
  {
   "cell_type": "code",
   "execution_count": null,
   "metadata": {},
   "outputs": [],
   "source": []
  }
 ],
 "metadata": {
  "kernelspec": {
   "display_name": "venv",
   "language": "python",
   "name": "python3"
  },
  "language_info": {
   "codemirror_mode": {
    "name": "ipython",
    "version": 3
   },
   "file_extension": ".py",
   "mimetype": "text/x-python",
   "name": "python",
   "nbconvert_exporter": "python",
   "pygments_lexer": "ipython3",
   "version": "3.13.0"
  }
 },
 "nbformat": 4,
 "nbformat_minor": 2
}
