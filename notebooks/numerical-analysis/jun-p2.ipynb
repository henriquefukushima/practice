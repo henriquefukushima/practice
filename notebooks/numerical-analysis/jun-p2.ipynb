{
 "cells": [
  {
   "cell_type": "code",
   "execution_count": 19,
   "metadata": {},
   "outputs": [],
   "source": [
    "import numpy as np\n",
    "import math\n",
    "\n",
    "# Fun ̧c~ao base\n",
    "f = lambda x: np.cos((np.pi * x )/ 2)\n",
    "# Pontos fornecidos (exemplo)\n",
    "x_points = np.array([0, 1, 2, 3])\n",
    "y_points = f(x_points)\n",
    "# Polin^omio interpolador usando diferen ̧cas divididas\n",
    "def divided_diff(x, y):\n",
    "    n = len(y)\n",
    "    coef = np.copy(y)\n",
    "    for j in range(1, n):\n",
    "        for i in range(n - j):\n",
    "            coef[i] = (coef[i + 1] - coef[i]) / (x[i + j] - x[i])\n",
    "    return coef\n",
    "\n",
    "# Avalia ̧c~ao do polin^omio de Newton\n",
    "def newton_polynomial(x, x_points, coef):\n",
    "    n = len(x_points)\n",
    "    result = coef[0]\n",
    "    for i in range(1, n):\n",
    "        term = coef[i]  \n",
    "        for j in range(i):\n",
    "            term *= (x - x_points[j])\n",
    "        result += term\n",
    "    return result\n",
    "\n",
    "# Coeficientes do polin^omio\n",
    "coefficients = divided_diff(x_points, y_points)\n",
    "\n",
    "p_x = lambda x: newton_polynomial(x, x_points, coefficients)\n",
    "# Estimativa do erro\n",
    "x_max = 3\n",
    "f_prime = lambda x: (np.pi/2) * np.sin((np.pi * x) / 2)\n",
    "max_derivative = max(abs(f_prime(x)) for x in np.linspace(0, x_max, 100))\n",
    "error_estimate = max_derivative / math.factorial(len(x_points))"
   ]
  },
  {
   "cell_type": "code",
   "execution_count": 20,
   "metadata": {},
   "outputs": [
    {
     "name": "stdout",
     "output_type": "stream",
     "text": [
      "Estimated error:  0.06544984694978735\n"
     ]
    }
   ],
   "source": [
    "print(\"Estimated error: \", error_estimate)"
   ]
  },
  {
   "cell_type": "code",
   "execution_count": 21,
   "metadata": {},
   "outputs": [
    {
     "name": "stdout",
     "output_type": "stream",
     "text": [
      "0.3333333333333333\n",
      "0.9999999999999999\n",
      "0.9999999999999998\n",
      "-1.8369701987210297e-16\n"
     ]
    }
   ],
   "source": [
    "for coef in coefficients:\n",
    "    print(coef)"
   ]
  },
  {
   "cell_type": "code",
   "execution_count": 22,
   "metadata": {},
   "outputs": [
    {
     "name": "stdout",
     "output_type": "stream",
     "text": [
      "Reta ajustada: R(t) = 21.73 + -0.15571428571428583t\n",
      "Volatilidade: 0.38257142857142895\n"
     ]
    }
   ],
   "source": [
    "import numpy as np\n",
    "# Dados\n",
    "weights = np.array([0.5, 0.6, 0.7, 0.8, 0.9, 1.0])\n",
    "t = np.array([1, 2, 3, 4, 5, 6])\n",
    "R = np.array([21.3, 21.8, 21.2, 21.3, 20.5, 21.0])\n",
    "# C ́alculos de m ́edia ponderada\n",
    "t_mean = np.sum(weights * t) / np.sum(weights)\n",
    "R_mean = np.sum(weights * R) / np.sum(weights)\n",
    "# Inclina ̧c~ao e intercepto\n",
    "beta = np.sum(weights * (t - t_mean) * (R - R_mean)) / np.sum(weights * (t - t_mean)**2)\n",
    "alpha = R_mean - beta * t_mean\n",
    "# Volatilidade\n",
    "sigma2 = np.sum(weights * (R - (alpha + beta * t))**2)\n",
    "print(f\"Reta ajustada: R(t) = {alpha} + {beta}t\")\n",
    "print(f\"Volatilidade: {sigma2}\")"
   ]
  },
  {
   "cell_type": "code",
   "execution_count": 26,
   "metadata": {},
   "outputs": [
    {
     "name": "stdout",
     "output_type": "stream",
     "text": [
      "p estimado: 1.0, e estimado: 1.0\n"
     ]
    },
    {
     "name": "stderr",
     "output_type": "stream",
     "text": [
      "/var/folders/9l/gkwpjt7n6llfmvr_0v6qztfr0000gn/T/ipykernel_57311/2196216710.py:9: RuntimeWarning: divide by zero encountered in divide\n",
      "  return p / (1 - e * np.cos(theta))\n",
      "/var/folders/9l/gkwpjt7n6llfmvr_0v6qztfr0000gn/T/ipykernel_57311/2196216710.py:12: OptimizeWarning: Covariance of the parameters could not be estimated\n",
      "  params, _ = curve_fit(kepler_law, theta, r)\n"
     ]
    }
   ],
   "source": [
    "from scipy.optimize import curve_fit\n",
    "import numpy as np\n",
    "\n",
    "# Dados\n",
    "theta = np.array([0, np.pi/6, np.pi/4, np.pi/3])\n",
    "r = np.array([2.0, 1.8, 1.6, 1.4])\n",
    "# Fun ̧c~ao da  ́orbita\n",
    "def kepler_law(theta, p, e):\n",
    "    return p / (1 - e * np.cos(theta))\n",
    "\n",
    "# Ajuste por m ́ınimos quadrados\n",
    "params, _ = curve_fit(kepler_law, theta, r)\n",
    "p_estimated, e_estimated = params\n",
    "print(f\"p estimado: {p_estimated}, e estimado: {e_estimated}\")"
   ]
  },
  {
   "cell_type": "code",
   "execution_count": 28,
   "metadata": {},
   "outputs": [
    {
     "name": "stdout",
     "output_type": "stream",
     "text": [
      "Trap ́ezios: 214.0483117982754, Simpson: 213.4951526547252\n"
     ]
    }
   ],
   "source": [
    "import numpy as np\n",
    "# Fun ̧c~ao base\n",
    "F = lambda t: 100 / (1 + 9 * np.exp(-t / 2))\n",
    "# M ́etodo dos trap ́ezios\n",
    "def trapezoidal_method(f, a, b, n):\n",
    "    h = (b - a) / n\n",
    "    x = np.linspace(a, b, n + 1)\n",
    "    y = f(x)\n",
    "    integral = h * (np.sum(y) - (y[0] + y[-1]) / 2)\n",
    "    return integral\n",
    "# M ́etodo de Simpson\n",
    "def simpsons_method(f, a, b, n):\n",
    "    if n % 2 != 0:\n",
    "        raise ValueError(\"n deve ser par para o m ́etodo de Simpson.\")\n",
    "    h = (b - a) / n\n",
    "    x = np.linspace(a, b, n + 1)\n",
    "    y = f(x)\n",
    "    integral = h / 3 * (y[0] + 4 * np.sum(y[1:-1:2]) + 2 * np.sum(y[2:-2:2]) + y[-1])\n",
    "    return integral\n",
    "# Dados\n",
    "a, b = 0, 6\n",
    "n_trap = 6\n",
    "n_simp = 4\n",
    "# Resultados\n",
    "trap_result = trapezoidal_method(F, a, b, n_trap)\n",
    "simp_result = simpsons_method(F, a, b, n_simp)\n",
    "print(f\"Trap ́ezios: {trap_result}, Simpson: {simp_result}\")"
   ]
  },
  {
   "cell_type": "code",
   "execution_count": 30,
   "metadata": {},
   "outputs": [
    {
     "name": "stdout",
     "output_type": "stream",
     "text": [
      "Integral aproximada: 4.041476218829887\n",
      "Erro estimado: 0.03333333333333333\n"
     ]
    }
   ],
   "source": [
    "# Fun ̧c~ao base\n",
    "f = lambda x: np.log(x)\n",
    "# M ́etodo de Simpson\n",
    "def simpsons_method(f, a, b, n):\n",
    "    if n % 2 != 0:\n",
    "        raise ValueError(\"n deve ser par para o m ́etodo de Simpson.\")\n",
    "    h = (b - a) / n\n",
    "    x = np.linspace(a, b, n + 1)\n",
    "    y = f(x)\n",
    "    integral = h / 3 * (y[0] + 4 * np.sum(y[1:-1:2]) + 2 * np.sum(y[2:-2:2]) + y[-1])\n",
    "    return integral\n",
    "# Dados\n",
    "a, b, n = 1, 5, 4\n",
    "result = simpsons_method(f, a, b, n)\n",
    "print(f\"Integral aproximada: {result}\")\n",
    "# Estimativa do erro\n",
    "h = (b - a) / n\n",
    "max_f4 = max(abs(-6 / x**4) for x in np.linspace(a, b, 100))\n",
    "error_estimate = max_f4 * h**4 / 180\n",
    "print(f\"Erro estimado: {error_estimate}\")"
   ]
  },
  {
   "cell_type": "code",
   "execution_count": 31,
   "metadata": {},
   "outputs": [
    {
     "name": "stdout",
     "output_type": "stream",
     "text": [
      "Soma de cos(theta): 0.2849288315858589\n",
      "Soma de cos^2(theta): 1.0562417256237289\n",
      "Soma de 1/r: 3.305213872988809\n",
      "Soma de cos(theta) * 1/r: -0.31488725414731233\n",
      "\n",
      "Coeficientes encontrados:\n",
      "Coeficiente a (1/p): 0.6886170394566975\n",
      "Coeficiente b (e/p): -0.48387986406048533\n",
      "Par^ametro p: 1.4521859650597322\n",
      "Excentricidade e: -0.7026835473636479\n"
     ]
    }
   ],
   "source": [
    "import numpy as np\n",
    "theta_graus = np.array([48, 67, 83, 108, 126]) # ^angulos da tabela\n",
    "r = np.array([2.70, 2.00, 1.61, 1.20, 1.02]) #r da tabela\n",
    "#Recalculando cos(theta) com theta em radianos\n",
    "theta_rad = np.radians(theta_graus)\n",
    "cos_theta = np.cos(theta_rad)\n",
    "#Somat ́orios\n",
    "n = len(theta_graus) #n ́umero de dados\n",
    "sum_1 = n\n",
    "sum_x = np.sum(cos_theta)\n",
    "sum_x2 = np.sum(cos_theta**2)\n",
    "sum_y = np.sum(1/r)\n",
    "sum_xy = np.sum(cos_theta*1/r)\n",
    "4\n",
    "\n",
    "#Matriz dos coeficientes (esquerda)\n",
    "A = np.array([[sum_1, sum_x],\n",
    "[sum_x, sum_x2]])\n",
    "\n",
    "B = np.array([sum_y, sum_xy])#Vetor (direita)\n",
    "det_A = A[0, 0] * A[1, 1] - A[0, 1] * A[1, 0]\n",
    "#Calculando as matrizes A1 e A2, substituindo as colunas de A por B\n",
    "A1 = np.array([[sum_y, sum_x],\n",
    "[sum_xy, sum_x2]])\n",
    "A2 = np.array([[sum_1, sum_y],\n",
    "[sum_x, sum_xy]])\n",
    "#determinantes de A1 e A2\n",
    "det_A1 = A1[0, 0] * A1[1, 1] - A1[0, 1] * A1[1, 0]\n",
    "det_A2 = A2[0, 0] * A2[1, 1] - A2[0, 1] * A2[1, 0]\n",
    "#coeficientes a e b\n",
    "a = det_A1 / det_A\n",
    "b = det_A2 / det_A\n",
    "p = 1 / a\n",
    "e = b / a\n",
    "# Exibindo os resultados\n",
    "print(f\"Soma de cos(theta): {sum_x}\")\n",
    "print(f\"Soma de cos^2(theta): {sum_x2}\")\n",
    "print(f\"Soma de 1/r: {sum_y}\")\n",
    "print(f\"Soma de cos(theta) * 1/r: {sum_xy}\")\n",
    "print(\"\\nCoeficientes encontrados:\")\n",
    "print(f\"Coeficiente a (1/p): {a}\")\n",
    "print(f\"Coeficiente b (e/p): {b}\")\n",
    "print(f\"Par^ametro p: {p}\")\n",
    "print(f\"Excentricidade e: {e}\")"
   ]
  },
  {
   "cell_type": "code",
   "execution_count": 33,
   "metadata": {},
   "outputs": [
    {
     "data": {
      "text/plain": [
       "0.20597671439071177"
      ]
     },
     "execution_count": 33,
     "metadata": {},
     "output_type": "execute_result"
    }
   ],
   "source": [
    "0.0018**(1/4)"
   ]
  },
  {
   "cell_type": "code",
   "execution_count": null,
   "metadata": {},
   "outputs": [],
   "source": []
  }
 ],
 "metadata": {
  "kernelspec": {
   "display_name": "venv",
   "language": "python",
   "name": "python3"
  },
  "language_info": {
   "codemirror_mode": {
    "name": "ipython",
    "version": 3
   },
   "file_extension": ".py",
   "mimetype": "text/x-python",
   "name": "python",
   "nbconvert_exporter": "python",
   "pygments_lexer": "ipython3",
   "version": "3.13.0"
  }
 },
 "nbformat": 4,
 "nbformat_minor": 2
}
